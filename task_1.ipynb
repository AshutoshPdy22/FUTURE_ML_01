{
  "nbformat": 4,
  "nbformat_minor": 0,
  "metadata": {
    "colab": {
      "provenance": [],
      "authorship_tag": "ABX9TyP6THP9VwocGvyb2o9NkhFv",
      "include_colab_link": true
    },
    "kernelspec": {
      "name": "python3",
      "display_name": "Python 3"
    },
    "language_info": {
      "name": "python"
    }
  },
  "cells": [
    {
      "cell_type": "markdown",
      "metadata": {
        "id": "view-in-github",
        "colab_type": "text"
      },
      "source": [
        "<a href=\"https://colab.research.google.com/github/AshutoshPdy22/FUTURE_ML_01/blob/main/task_1.ipynb\" target=\"_parent\"><img src=\"https://colab.research.google.com/assets/colab-badge.svg\" alt=\"Open In Colab\"/></a>"
      ]
    },
    {
      "cell_type": "code",
      "source": [
        "!pip install prophet"
      ],
      "metadata": {
        "colab": {
          "base_uri": "https://localhost:8080/"
        },
        "collapsed": true,
        "id": "r5LRfrsPcxDx",
        "outputId": "48806b7d-4081-4f18-e1d8-655aa6b07bb7"
      },
      "execution_count": null,
      "outputs": [
        {
          "output_type": "stream",
          "name": "stdout",
          "text": [
            "Requirement already satisfied: prophet in /usr/local/lib/python3.11/dist-packages (1.1.7)\n",
            "Requirement already satisfied: cmdstanpy>=1.0.4 in /usr/local/lib/python3.11/dist-packages (from prophet) (1.2.5)\n",
            "Requirement already satisfied: numpy>=1.15.4 in /usr/local/lib/python3.11/dist-packages (from prophet) (2.0.2)\n",
            "Requirement already satisfied: matplotlib>=2.0.0 in /usr/local/lib/python3.11/dist-packages (from prophet) (3.10.0)\n",
            "Requirement already satisfied: pandas>=1.0.4 in /usr/local/lib/python3.11/dist-packages (from prophet) (2.2.2)\n",
            "Requirement already satisfied: holidays<1,>=0.25 in /usr/local/lib/python3.11/dist-packages (from prophet) (0.77)\n",
            "Requirement already satisfied: tqdm>=4.36.1 in /usr/local/lib/python3.11/dist-packages (from prophet) (4.67.1)\n",
            "Requirement already satisfied: importlib_resources in /usr/local/lib/python3.11/dist-packages (from prophet) (6.5.2)\n",
            "Requirement already satisfied: stanio<2.0.0,>=0.4.0 in /usr/local/lib/python3.11/dist-packages (from cmdstanpy>=1.0.4->prophet) (0.5.1)\n",
            "Requirement already satisfied: python-dateutil in /usr/local/lib/python3.11/dist-packages (from holidays<1,>=0.25->prophet) (2.9.0.post0)\n",
            "Requirement already satisfied: contourpy>=1.0.1 in /usr/local/lib/python3.11/dist-packages (from matplotlib>=2.0.0->prophet) (1.3.2)\n",
            "Requirement already satisfied: cycler>=0.10 in /usr/local/lib/python3.11/dist-packages (from matplotlib>=2.0.0->prophet) (0.12.1)\n",
            "Requirement already satisfied: fonttools>=4.22.0 in /usr/local/lib/python3.11/dist-packages (from matplotlib>=2.0.0->prophet) (4.59.0)\n",
            "Requirement already satisfied: kiwisolver>=1.3.1 in /usr/local/lib/python3.11/dist-packages (from matplotlib>=2.0.0->prophet) (1.4.8)\n",
            "Requirement already satisfied: packaging>=20.0 in /usr/local/lib/python3.11/dist-packages (from matplotlib>=2.0.0->prophet) (25.0)\n",
            "Requirement already satisfied: pillow>=8 in /usr/local/lib/python3.11/dist-packages (from matplotlib>=2.0.0->prophet) (11.3.0)\n",
            "Requirement already satisfied: pyparsing>=2.3.1 in /usr/local/lib/python3.11/dist-packages (from matplotlib>=2.0.0->prophet) (3.2.3)\n",
            "Requirement already satisfied: pytz>=2020.1 in /usr/local/lib/python3.11/dist-packages (from pandas>=1.0.4->prophet) (2025.2)\n",
            "Requirement already satisfied: tzdata>=2022.7 in /usr/local/lib/python3.11/dist-packages (from pandas>=1.0.4->prophet) (2025.2)\n",
            "Requirement already satisfied: six>=1.5 in /usr/local/lib/python3.11/dist-packages (from python-dateutil->holidays<1,>=0.25->prophet) (1.17.0)\n"
          ]
        }
      ]
    },
    {
      "cell_type": "code",
      "source": [
        "\n",
        "# Step 2: Import libraries\n",
        "import pandas as pd\n",
        "import numpy as np\n",
        "import os\n",
        "from prophet import Prophet\n",
        "import matplotlib.pyplot as plt\n",
        "import holidays\n",
        "\n",
        "# Step 3: Load and clean data\n",
        "df = pd.read_csv(\"retail_sales.csv\")\n",
        "\n",
        "# Convert 'Date' to datetime\n",
        "df['Date'] = pd.to_datetime(df['Date'])\n",
        "\n",
        "# Ensure Total Amount is numeric\n",
        "df['Total Amount'] = pd.to_numeric(df['Total Amount'], errors='coerce')\n",
        "\n",
        "# Step 4: Aggregate daily sales\n",
        "daily_sales = df.groupby('Date', as_index=False)['Total Amount'].sum()\n",
        "daily_sales = daily_sales.rename(columns={'Date': 'ds', 'Total Amount': 'y'})\n",
        "\n",
        "# Step 5: Feature Engineering\n",
        "\n",
        "# Add month and weekday\n",
        "daily_sales['month'] = daily_sales['ds'].dt.month\n",
        "daily_sales['day_of_week'] = daily_sales['ds'].dt.dayofweek\n",
        "\n",
        "# Add \"holiday\" flag using national holidays\n",
        "us_holidays = holidays.US()\n",
        "daily_sales['is_holiday'] = daily_sales['ds'].apply(lambda x: 1 if x in us_holidays else 0)\n",
        "\n",
        "# Add rolling averages (e.g., 7-day and monthly avg)\n",
        "daily_sales['y_7d_avg'] = daily_sales['y'].rolling(window=7).mean()\n",
        "daily_sales['y_30d_avg'] = daily_sales['y'].rolling(window=30).mean()\n",
        "\n",
        "# Optional: Drop NaNs from rolling averages if modeling later\n",
        "daily_sales.fillna(method='bfill', inplace=True)\n",
        "\n",
        "# Step 6: Forecasting using Prophet\n",
        "model_data = daily_sales[['ds', 'y']]\n",
        "\n",
        "model = Prophet(holidays=pd.DataFrame({\n",
        "    'ds': pd.to_datetime(list(us_holidays.keys())),\n",
        "    'holiday': list(us_holidays.values())\n",
        "}))\n",
        "model.fit(model_data)\n",
        "\n",
        "# Step 7: Make future predictions\n",
        "future = model.make_future_dataframe(periods=365)\n",
        "forecast = model.predict(future)\n",
        "\n",
        "# Step 8: Save forecast output\n",
        "output = forecast[['ds', 'yhat', 'yhat_lower', 'yhat_upper']]\n",
        "output = output.merge(daily_sales[['ds', 'y']], on='ds', how='left')\n",
        "\n",
        "# Step 9: Export to CSV for Power BI\n",
        "output.to_csv(\"sales_forecast_with_actuals.csv\", index=False)\n",
        "daily_sales.to_csv(\"cleaned_sales_data.csv\", index=False)\n",
        "\n",
        "# Step 10: Plot forecast and save image\n",
        "fig = model.plot(forecast)\n",
        "plt.title(\"Retail Sales Forecast (Prophet)\")\n",
        "plt.savefig(\"forecast_plot.png\")\n",
        "plt.close()\n",
        "\n",
        "print(\"✅ Data cleaned, forecasted, and exported for Power BI.\")\n"
      ],
      "metadata": {
        "colab": {
          "base_uri": "https://localhost:8080/"
        },
        "id": "4qroeG0yeaoB",
        "outputId": "ded6b190-027f-4066-bef1-523e77e21890"
      },
      "execution_count": null,
      "outputs": [
        {
          "output_type": "stream",
          "name": "stderr",
          "text": [
            "/tmp/ipython-input-397696302.py:37: FutureWarning: DataFrame.fillna with 'method' is deprecated and will raise in a future version. Use obj.ffill() or obj.bfill() instead.\n",
            "  daily_sales.fillna(method='bfill', inplace=True)\n",
            "INFO:prophet:Disabling yearly seasonality. Run prophet with yearly_seasonality=True to override this.\n",
            "INFO:prophet:Disabling daily seasonality. Run prophet with daily_seasonality=True to override this.\n",
            "DEBUG:cmdstanpy:input tempfile: /tmp/tmpjbi35j_b/3u0xnh_e.json\n",
            "DEBUG:cmdstanpy:input tempfile: /tmp/tmpjbi35j_b/ahbpcidk.json\n",
            "DEBUG:cmdstanpy:idx 0\n",
            "DEBUG:cmdstanpy:running CmdStan, num_threads: None\n",
            "DEBUG:cmdstanpy:CmdStan args: ['/usr/local/lib/python3.11/dist-packages/prophet/stan_model/prophet_model.bin', 'random', 'seed=45419', 'data', 'file=/tmp/tmpjbi35j_b/3u0xnh_e.json', 'init=/tmp/tmpjbi35j_b/ahbpcidk.json', 'output', 'file=/tmp/tmpjbi35j_b/prophet_model5_oph9wu/prophet_model-20250806174355.csv', 'method=optimize', 'algorithm=lbfgs', 'iter=10000']\n",
            "17:43:55 - cmdstanpy - INFO - Chain [1] start processing\n",
            "INFO:cmdstanpy:Chain [1] start processing\n",
            "17:43:55 - cmdstanpy - INFO - Chain [1] done processing\n",
            "INFO:cmdstanpy:Chain [1] done processing\n"
          ]
        },
        {
          "output_type": "stream",
          "name": "stdout",
          "text": [
            "✅ Data cleaned, forecasted, and exported for Power BI.\n"
          ]
        }
      ]
    }
  ]
}